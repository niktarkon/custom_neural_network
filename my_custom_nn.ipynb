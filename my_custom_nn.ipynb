{
  "nbformat": 4,
  "nbformat_minor": 0,
  "metadata": {
    "kernelspec": {
      "display_name": "Python 3",
      "language": "python",
      "name": "python3"
    },
    "language_info": {
      "codemirror_mode": {
        "name": "ipython",
        "version": 3
      },
      "file_extension": ".py",
      "mimetype": "text/x-python",
      "name": "python",
      "nbconvert_exporter": "python",
      "pygments_lexer": "ipython3",
      "version": "3.6.7"
    },
    "colab": {
      "provenance": []
    }
  },
  "cells": [
    {
      "cell_type": "code",
      "metadata": {
        "id": "o2DkIzfVdAxd"
      },
      "source": [
        "import numpy as np\n",
        "import os\n",
        "from sklearn.datasets import fetch_openml\n",
        "from sklearn import preprocessing"
      ],
      "execution_count": 55,
      "outputs": []
    },
    {
      "cell_type": "code",
      "metadata": {
        "id": "tfA1Fp7kdAxl",
        "outputId": "b9726b92-4786-4cde-9011-8e1a97147059",
        "colab": {
          "base_uri": "https://localhost:8080/"
        }
      },
      "source": [
        "A = np.random.randn(256, 2000)\n",
        "B = np.random.randn(2000, 800)\n",
        "\n",
        "# помножить каждый вектор-строку на B и сконкатенировать\n",
        "%time C = np.stack(np.dot(A[i].T, B) for i in range(256))\n",
        "\n",
        "# это то же самое, что использовать одно-большое матричное умножение\n",
        "%time C = np.dot(A, B)"
      ],
      "execution_count": 56,
      "outputs": [
        {
          "output_type": "stream",
          "name": "stdout",
          "text": [
            "CPU times: user 125 ms, sys: 9.83 ms, total: 135 ms\n",
            "Wall time: 67.7 ms\n",
            "CPU times: user 38.3 ms, sys: 850 µs, total: 39.2 ms\n",
            "Wall time: 19.6 ms\n"
          ]
        }
      ]
    },
    {
      "cell_type": "code",
      "metadata": {
        "id": "oBVpDMN6dAxs"
      },
      "source": [
        "class Module():\n",
        "    def __init__(self):\n",
        "        self._train = True\n",
        "    \n",
        "    def forward(self, input):\n",
        "        raise NotImplementedError\n",
        "\n",
        "    def backward(self,input, grad_output):\n",
        "        raise NotImplementedError\n",
        "    \n",
        "    def parameters(self):\n",
        "        return []\n",
        "    \n",
        "    def grad_parameters(self):\n",
        "        return []\n",
        "    \n",
        "    def train(self):\n",
        "        self._train = True\n",
        "    \n",
        "    def eval(self):\n",
        "        self._train = False"
      ],
      "execution_count": 57,
      "outputs": []
    },
    {
      "cell_type": "code",
      "metadata": {
        "id": "0O968yWrdAxx"
      },
      "source": [
        "class Sequential(Module):\n",
        "    def __init__ (self, *layers):\n",
        "        super().__init__()\n",
        "        self.layers = layers\n",
        "\n",
        "    def forward(self, input):\n",
        "        for layer in self.layers:\n",
        "            input = layer.forward(input)\n",
        "\n",
        "        self.output = input\n",
        "        return self.output\n",
        "\n",
        "    def backward(self, input, grad_output):      \n",
        "        for i in range(len(self.layers)-1, 0, -1):\n",
        "            grad_output = self.layers[i].backward(self.layers[i-1].output, grad_output)\n",
        "        \n",
        "        grad_input = self.layers[0].backward(input, grad_output)\n",
        "        \n",
        "        return grad_input\n",
        "      \n",
        "    def parameters(self):\n",
        "        res = []\n",
        "        for l in self.layers:\n",
        "            res += l.parameters()\n",
        "        return res\n",
        "    \n",
        "    def grad_parameters(self):\n",
        "        res = []\n",
        "        for l in self.layers:\n",
        "            res += l.grad_parameters()\n",
        "        return res\n",
        "    \n",
        "    def train(self):\n",
        "        for layer in self.layers:\n",
        "            layer.train()\n",
        "    \n",
        "    def eval(self):\n",
        "        for layer in self.layers:\n",
        "            layer.eval()"
      ],
      "execution_count": 58,
      "outputs": []
    },
    {
      "cell_type": "code",
      "metadata": {
        "id": "4uEjKIasdAx3"
      },
      "source": [
        "class Linear(Module):\n",
        "    def __init__(self, dim_in, dim_out):\n",
        "        super().__init__()\n",
        "        stdv = 1./np.sqrt(dim_in)\n",
        "        self.W = np.random.uniform(-stdv, stdv, size=(dim_in, dim_out))\n",
        "        self.b = np.random.uniform(-stdv, stdv, size=dim_out)\n",
        "        \n",
        "    def forward(self, input):\n",
        "        self.output = np.dot(input, self.W) + self.b\n",
        "        return self.output\n",
        "    \n",
        "    def backward(self, input, grad_output):\n",
        "        self.grad_b = np.mean(grad_output, axis=0)\n",
        "        self.grad_W = np.dot(input.T, grad_output)\n",
        "        grad_input = np.dot(grad_output, self.W.T)\n",
        "        return grad_input\n",
        "    \n",
        "    def parameters(self):\n",
        "        return [self.W, self.b]\n",
        "    \n",
        "    def grad_parameters(self):\n",
        "        return [self.grad_W, self.grad_b]"
      ],
      "execution_count": 59,
      "outputs": []
    },
    {
      "cell_type": "code",
      "metadata": {
        "id": "HrayJEANdAx7"
      },
      "source": [
        "class ReLU(Module):\n",
        "    def __init__(self):\n",
        "         super().__init__()\n",
        "    \n",
        "    def forward(self, input):\n",
        "        self.output = np.maximum(input, 0)\n",
        "        return self.output\n",
        "    \n",
        "    def backward(self, input, grad_output):\n",
        "        grad_input = np.multiply(grad_output, input > 0)\n",
        "        return grad_input"
      ],
      "execution_count": 60,
      "outputs": []
    },
    {
      "cell_type": "markdown",
      "metadata": {
        "id": "xUTaMFaWdAx8"
      },
      "source": [
        "У ReLU есть проблема — у него бесполезная нулевая производная при $x < 0$.\n",
        "\n",
        "[**Leaky Rectified Linear Unit**](http://en.wikipedia.org/wiki%2FRectifier_%28neural_networks%29%23Leaky_ReLUs) — это его модифицированная версия, имеющая в отрицательных координатах не нулевой градиент, а просто помноженный на маленькую константу `slope`.\n",
        "\n",
        "$$\n",
        "LeakyReLU_k(x)=\n",
        "\\begin{cases}\n",
        "x, & x > 0\\\\\n",
        "kx, & x \\leq 0\\\\\n",
        "\\end{cases}\n",
        "$$\n",
        "\n",
        "При `slope` = 0 он превращается в обычный `ReLU`. "
      ]
    },
    {
      "cell_type": "code",
      "metadata": {
        "id": "OMWPFjxldAx8"
      },
      "source": [
        "class LeakyReLU(Module):\n",
        "    def __init__(self, slope=0.03):\n",
        "        super().__init__()\n",
        "            \n",
        "        self.slope = slope\n",
        "        \n",
        "    def forward(self, input):\n",
        "        self.output = np.maximum(input, input*self.slope)\n",
        "        return self.output\n",
        "    \n",
        "    def backward(self, input, grad_output):\n",
        "        grad_input = (input > 0) + self.slope * (input <= 0)\n",
        "        return grad_input"
      ],
      "execution_count": 61,
      "outputs": []
    },
    {
      "cell_type": "code",
      "metadata": {
        "id": "LUag-tekdAx-"
      },
      "source": [
        "class Sigmoid(Module):\n",
        "    def __init__(self, slope=0.03):\n",
        "        super().__init__()\n",
        "\n",
        "    def forward(self, input):\n",
        "        self.output = 1 / (1 + np.exp(-input))\n",
        "        return self.output\n",
        "    \n",
        "    def backward(self, input, grad_output):\n",
        "        grad_input = self.output*(1 - self.output)*grad_output\n",
        "        return grad_input"
      ],
      "execution_count": 62,
      "outputs": []
    },
    {
      "cell_type": "code",
      "metadata": {
        "id": "QS-6BIe6dAx_"
      },
      "source": [
        "class SoftMax(Module):\n",
        "    def __init__(self):\n",
        "         super().__init__()\n",
        "\n",
        "    def forward(self, input):\n",
        "        self.output = np.subtract(input, input.max(axis=1, keepdims=True))   \n",
        "        esum = np.sum(np.exp(self.output), axis=1, keepdims=True)\n",
        "        self.probs = np.array(np.exp(self.output)) / esum\n",
        "        self.output = self.probs\n",
        "        return self.output\n",
        "    \n",
        "    def backward(self, input, grad_output):\n",
        "      grad_input = []\n",
        "      for b in range(self.probs.shape[0]):\n",
        "        eye = np.eye(self.probs.shape[1])\n",
        "        prob_matr = np.repeat(self.probs[b].reshape(1,-1), self.probs[b].shape[0], axis=0)\n",
        "        res = np.dot(grad_output[b].reshape(1,-1), prob_matr.T*(eye-prob_matr))\n",
        "        grad_input.append(res)\n",
        "      grad_input = np.array(grad_input).reshape(-1, self.probs[b].shape[0])\n",
        "      return grad_input"
      ],
      "execution_count": 63,
      "outputs": []
    },
    {
      "cell_type": "code",
      "metadata": {
        "id": "COX7VXtUdAyC"
      },
      "source": [
        "class Criterion():        \n",
        "    def forward(self, input, target):\n",
        "        raise NotImplementedError\n",
        "\n",
        "    def backward(self, input, target):\n",
        "        raise NotImplementedError"
      ],
      "execution_count": 64,
      "outputs": []
    },
    {
      "cell_type": "code",
      "metadata": {
        "id": "RLZXaG3OdAyD"
      },
      "source": [
        "class MSE(Criterion):\n",
        "    def forward(self, input, target):\n",
        "        batch_size = input.shape[0]\n",
        "        self.output = np.sum(np.power(input - target, 2)) / batch_size\n",
        "        return self.output\n",
        " \n",
        "    def backward(self, input, target):\n",
        "        self.grad_output  = (input - target) * 2 / input.shape[0]\n",
        "        return self.grad_output"
      ],
      "execution_count": 65,
      "outputs": []
    },
    {
      "cell_type": "code",
      "metadata": {
        "id": "3ckg7SdddAyF"
      },
      "source": [
        "class CrossEntropy(Criterion):\n",
        "    def __init__(self):\n",
        "        super().__init__()\n",
        "        \n",
        "    def forward(self, input, target): \n",
        "        # чтобы нигде не было взятий логарифма от нуля:\n",
        "        eps = 1e-9\n",
        "        self.input_clamp = np.clip(input, eps, 1 - eps)\n",
        "        eye = np.eye(self.input_clamp.shape[1])\n",
        "        self.ohe = np.squeeze(eye[target], axis = 1)\n",
        "        self.res = np.log(self.input_clamp)*self.ohe\n",
        "        self.output = -np.sum(self.res, axis=1) / target.shape[0]\n",
        "        return self.output\n",
        "\n",
        "    def backward(self, input, target):\n",
        "        self.grad_output = (self.input_clamp - self.ohe)/target.shape[0]\n",
        "        return self.grad_output"
      ],
      "execution_count": 66,
      "outputs": []
    },
    {
      "cell_type": "code",
      "source": [
        "import numpy as np\n",
        "import matplotlib.pyplot as plt\n",
        "%matplotlib inline"
      ],
      "metadata": {
        "id": "9gCXyj1WS68A"
      },
      "execution_count": 67,
      "outputs": []
    },
    {
      "cell_type": "code",
      "source": [
        "def SGD(params, gradients, lr=1e-3):   \n",
        "\n",
        "    for weights, gradient in zip(params, gradients):\n",
        "        weights -= lr * gradient\n",
        "        params = weights"
      ],
      "metadata": {
        "id": "cKAE1bm5xPRD"
      },
      "execution_count": 68,
      "outputs": []
    },
    {
      "cell_type": "code",
      "source": [
        "def loader(X, Y, batch_size):    \n",
        "    n = X.shape[0]\n",
        "\n",
        "    indices = np.arange(n)\n",
        "    np.random.shuffle(indices)\n",
        "    \n",
        "    for start in range(0, n, batch_size):\n",
        "      \n",
        "        end = min(start + batch_size, n)\n",
        "        \n",
        "        batch_idx = indices[start:end]\n",
        "    \n",
        "        yield X[batch_idx], Y[batch_idx]"
      ],
      "metadata": {
        "id": "s5aTjzA9xTgA"
      },
      "execution_count": 69,
      "outputs": []
    },
    {
      "cell_type": "code",
      "source": [
        "n = 1000\n",
        "X = np.random.randn(n, 10)\n",
        "true_w = np.random.randn(10, 1)\n",
        "Y = np.dot(X, true_w).reshape(n,1)\n",
        "print('best_possible_mse:', np.mean(np.power(Y-np.dot(X, true_w).reshape(n), 2)))"
      ],
      "metadata": {
        "colab": {
          "base_uri": "https://localhost:8080/"
        },
        "id": "i-s8Z9pPxVBw",
        "outputId": "b4c50e06-8023-491b-f070-8760cae6b40b"
      },
      "execution_count": 70,
      "outputs": [
        {
          "output_type": "stream",
          "name": "stdout",
          "text": [
            "best_possible_mse: 26.982434847689568\n"
          ]
        }
      ]
    },
    {
      "cell_type": "code",
      "source": [
        "model = Sequential(\n",
        "    Linear(2, 2),\n",
        "    SoftMax()\n",
        ")\n",
        "\n",
        "criterion = CrossEntropy()"
      ],
      "metadata": {
        "id": "6ebfMiX6xWr5"
      },
      "execution_count": 71,
      "outputs": []
    },
    {
      "cell_type": "code",
      "source": [
        "n = 500\n",
        "\n",
        "X1 = np.random.randn(n, 2) + np.array([2, 2])\n",
        "X2 = np.random.randn(n, 2) + np.array([-2, -2])\n",
        "X = np.vstack([X1, X2])\n",
        "\n",
        "Y = np.concatenate([np.ones(n), np.zeros(n)]).astype('int')\n",
        "Y = Y.reshape(-1,1)\n",
        "\n",
        "plt.scatter(X[:,0], X[:,1], c=Y)\n",
        "plt.show()"
      ],
      "metadata": {
        "colab": {
          "base_uri": "https://localhost:8080/",
          "height": 265
        },
        "id": "mXDV2aWuzgBE",
        "outputId": "40126877-d276-4ab9-883d-a8eef218f196"
      },
      "execution_count": 72,
      "outputs": [
        {
          "output_type": "display_data",
          "data": {
            "text/plain": [
              "<Figure size 432x288 with 1 Axes>"
            ],
            "image/png": "[encoded data removed]"
          },
          "metadata": {
            "needs_background": "light"
          }
        }
      ]
    },
    {
      "cell_type": "code",
      "source": [
        "epochs = 10\n",
        "batch_size = 10\n",
        "learning_rate = 1e-1\n"
      ],
      "metadata": {
        "id": "Kchi-W9kxZaY"
      },
      "execution_count": 73,
      "outputs": []
    },
    {
      "cell_type": "code",
      "source": [
        "history = []\n",
        "import time\n",
        "\n",
        "for i in range(epochs):\n",
        "    for x, y_true in loader(X, Y, batch_size):\n",
        "\n",
        "        y_pred = model.forward(x)\n",
        "        loss = criterion.forward(y_pred, y_true)\n",
        "        \n",
        "        grad = criterion.backward(y_pred, y_true)\n",
        "        model.backward(x, grad)\n",
        "\n",
        "        SGD(model.parameters(),\n",
        "            model.grad_parameters(),\n",
        "            learning_rate)\n",
        "        history.append(loss)\n",
        "\n",
        "    \n",
        "plt.title(\"Training loss\")\n",
        "plt.xlabel(\"iteration\")\n",
        "plt.ylabel(\"loss\")\n",
        "plt.plot(history, 'b')\n",
        "plt.show()"
      ],
      "metadata": {
        "colab": {
          "base_uri": "https://localhost:8080/",
          "height": 295
        },
        "id": "C6e3QHvUxaqA",
        "outputId": "cdfab8a9-8ba2-416e-8134-8e38ad4d67b9"
      },
      "execution_count": 74,
      "outputs": [
        {
          "output_type": "display_data",
          "data": {
            "text/plain": [
              "<Figure size 432x288 with 1 Axes>"
            ],
            "image/png": "[encoded data removed]"
          },
          "metadata": {
            "needs_background": "light"
          }
        }
      ]
    },
    {
      "cell_type": "code",
      "source": [
        "mnist = fetch_openml(\"mnist_784\")\n",
        "X = mnist.data / 255.0\n",
        "y = mnist.target\n",
        "np.savez('mnist.npz', X=X, y=y)"
      ],
      "metadata": {
        "id": "ho7-9TlgCY2l"
      },
      "execution_count": 75,
      "outputs": []
    },
    {
      "cell_type": "code",
      "source": [
        "enc = preprocessing.OneHotEncoder(sparse=False)\n",
        "y = np.array(y).reshape(-1,1).astype(int)\n",
        "X = X.to_numpy()\n",
        "from sklearn.model_selection import train_test_split\n",
        "X_train, X_test, y_train, y_test = train_test_split(X,y,random_state=42, train_size=0.8)"
      ],
      "metadata": {
        "id": "CtWLnShlxcRw"
      },
      "execution_count": 76,
      "outputs": []
    },
    {
      "cell_type": "code",
      "source": [
        "X.shape"
      ],
      "metadata": {
        "colab": {
          "base_uri": "https://localhost:8080/"
        },
        "id": "GgCpm5jsUjSb",
        "outputId": "83b96cee-e5c2-4a55-ed77-ad25640a4ddb"
      },
      "execution_count": 77,
      "outputs": [
        {
          "output_type": "execute_result",
          "data": {
            "text/plain": [
              "(70000, 784)"
            ]
          },
          "metadata": {},
          "execution_count": 77
        }
      ]
    },
    {
      "cell_type": "code",
      "source": [
        "def accuracy(model, loader):\n",
        "    total = 0\n",
        "    correct = 0\n",
        "    for X, y in loader:\n",
        "        y_pred = model.forward(X)\n",
        "        y = y.ravel()\n",
        "        res = y_pred.argmax(axis=1)\n",
        "        total += res.shape[0]\n",
        "        correct += (res == y).sum()\n",
        "    return correct / total"
      ],
      "metadata": {
        "id": "0k2t5KAbIibA"
      },
      "execution_count": 78,
      "outputs": []
    },
    {
      "cell_type": "code",
      "source": [
        "def SGD(params, gradients, lr=1e-3):\n",
        "  res = []\n",
        "  for i in range(len(params)):\n",
        "    params[i] -= lr*gradients[i]\n",
        "    return params"
      ],
      "metadata": {
        "id": "oylN3N0R9kOq"
      },
      "execution_count": 79,
      "outputs": []
    },
    {
      "cell_type": "code",
      "source": [
        "epochs = 50\n",
        "batch_size = 64\n",
        "learning_rate = 1e+2\n",
        "\n",
        "d = 28*28\n",
        "\n",
        "model = Sequential(\n",
        "    Linear(28*28, d*2),\n",
        "    ReLU(),\n",
        "    Linear(d*2, 10),\n",
        "    SoftMax()\n",
        ")\n",
        "\n",
        "criterion = CrossEntropy()\n",
        "\n",
        "history = []\n",
        "import time\n",
        "l = loader(X_train, y_train, batch_size)\n",
        "for i in range(1, epochs):\n",
        "    for x, y_true in loader(X_train, y_train, batch_size):\n",
        "        y_pred = model.forward(x)\n",
        "        loss = criterion.forward(y_pred, y_true)\n",
        "        grad = criterion.backward(y_pred, y_true)\n",
        "        model.backward(x, grad)\n",
        "        SGD(model.parameters(),\n",
        "            model.grad_parameters(),\n",
        "            learning_rate)\n",
        "        history.append(loss)\n",
        "\n",
        "\n",
        "    \n",
        "plt.title(\"Training loss\")\n",
        "plt.xlabel(\"iteration\")\n",
        "plt.ylabel(\"loss\")\n",
        "plt.plot(history, 'b')\n",
        "plt.show()"
      ],
      "metadata": {
        "id": "3n08VcpeDVFY"
      },
      "execution_count": null,
      "outputs": []
    },
    {
      "cell_type": "code",
      "source": [
        "accuracy(model,loader(X_test, y_test, batch_size))"
      ],
      "metadata": {
        "id": "XbsNfKQmWD_x"
      },
      "execution_count": null,
      "outputs": []
    },
    {
      "cell_type": "code",
      "source": [
        "accuracy(model, X_train, y_train)"
      ],
      "metadata": {
        "id": "yEW7IzD4bnha"
      },
      "execution_count": null,
      "outputs": []
    },
    {
      "cell_type": "code",
      "source": [],
      "metadata": {
        "id": "B__rJyUIQ_zP"
      },
      "execution_count": null,
      "outputs": []
    }
  ]
}